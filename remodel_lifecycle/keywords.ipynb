{
 "metadata": {
  "language_info": {
   "codemirror_mode": {
    "name": "ipython",
    "version": 3
   },
   "file_extension": ".py",
   "mimetype": "text/x-python",
   "name": "python",
   "nbconvert_exporter": "python",
   "pygments_lexer": "ipython3",
   "version": "3.9.1-final"
  },
  "orig_nbformat": 2,
  "kernelspec": {
   "name": "python391jvsc74a57bd06feb77fd948012056387f82be85540273eb7f3e38e5a96fe21af5021936e1cd3",
   "display_name": "Python 3.9.1 64-bit ('venv')"
  },
  "metadata": {
   "interpreter": {
    "hash": "6feb77fd948012056387f82be85540273eb7f3e38e5a96fe21af5021936e1cd3"
   }
  }
 },
 "nbformat": 4,
 "nbformat_minor": 2,
 "cells": [
  {
   "cell_type": "code",
   "execution_count": 13,
   "metadata": {},
   "outputs": [
    {
     "output_type": "execute_result",
     "data": {
      "text/plain": [
       "'1.2.4'"
      ]
     },
     "metadata": {},
     "execution_count": 13
    }
   ],
   "source": [
    "import pandas as pd \n",
    "import numpy as np\n",
    "pd.__version__"
   ]
  },
  {
   "cell_type": "code",
   "execution_count": 33,
   "metadata": {},
   "outputs": [
    {
     "output_type": "execute_result",
     "data": {
      "text/plain": [
       "  name                              label  order parentTopic\n",
       "0    1  Socio-demographic characteristics      1           3\n",
       "1    3           Maternal Characteristics      2         NaN\n",
       "2    4          Lifestyle Characteristics      3           3"
      ],
      "text/html": "<div>\n<style scoped>\n    .dataframe tbody tr th:only-of-type {\n        vertical-align: middle;\n    }\n\n    .dataframe tbody tr th {\n        vertical-align: top;\n    }\n\n    .dataframe thead th {\n        text-align: right;\n    }\n</style>\n<table border=\"1\" class=\"dataframe\">\n  <thead>\n    <tr style=\"text-align: right;\">\n      <th></th>\n      <th>name</th>\n      <th>label</th>\n      <th>order</th>\n      <th>parentTopic</th>\n    </tr>\n  </thead>\n  <tbody>\n    <tr>\n      <th>0</th>\n      <td>1</td>\n      <td>Socio-demographic characteristics</td>\n      <td>1</td>\n      <td>3</td>\n    </tr>\n    <tr>\n      <th>1</th>\n      <td>3</td>\n      <td>Maternal Characteristics</td>\n      <td>2</td>\n      <td>NaN</td>\n    </tr>\n    <tr>\n      <th>2</th>\n      <td>4</td>\n      <td>Lifestyle Characteristics</td>\n      <td>3</td>\n      <td>3</td>\n    </tr>\n  </tbody>\n</table>\n</div>"
     },
     "metadata": {},
     "execution_count": 33
    }
   ],
   "source": [
    "topics = pd.read_csv('./src/Topic.csv')\n",
    "topics.head(3)"
   ]
  },
  {
   "cell_type": "code",
   "execution_count": 34,
   "metadata": {
    "tags": []
   },
   "outputs": [
    {
     "output_type": "execute_result",
     "data": {
      "text/plain": [
       "                                  name  order                      parent  \\\n",
       "0    Socio-demographic characteristics      1    Maternal Characteristics   \n",
       "1             Maternal Characteristics      2                         NaN   \n",
       "2            Lifestyle Characteristics      3    Maternal Characteristics   \n",
       "3                     Maternal smoking      1   Lifestyle Characteristics   \n",
       "4    Socio-demographic characteristics      1                       Child   \n",
       "..                                 ...    ...                         ...   \n",
       "299                             pm25fe      8               Air pollution   \n",
       "300       unhealthy_facilities_density      1  Unhealthy food environment   \n",
       "301   unhealthy_facilities_density_osm      2  Unhealthy food environment   \n",
       "302                              pm25k      9               Air pollution   \n",
       "303                     meteo_distance     11                 Meteorology   \n",
       "\n",
       "    definition comments ontologyTermURI  \n",
       "0                                        \n",
       "1                                        \n",
       "2                                        \n",
       "3                                        \n",
       "4                                        \n",
       "..         ...      ...             ...  \n",
       "299                                      \n",
       "300                                      \n",
       "301                                      \n",
       "302                                      \n",
       "303                                      \n",
       "\n",
       "[304 rows x 6 columns]"
      ],
      "text/html": "<div>\n<style scoped>\n    .dataframe tbody tr th:only-of-type {\n        vertical-align: middle;\n    }\n\n    .dataframe tbody tr th {\n        vertical-align: top;\n    }\n\n    .dataframe thead th {\n        text-align: right;\n    }\n</style>\n<table border=\"1\" class=\"dataframe\">\n  <thead>\n    <tr style=\"text-align: right;\">\n      <th></th>\n      <th>name</th>\n      <th>order</th>\n      <th>parent</th>\n      <th>definition</th>\n      <th>comments</th>\n      <th>ontologyTermURI</th>\n    </tr>\n  </thead>\n  <tbody>\n    <tr>\n      <th>0</th>\n      <td>Socio-demographic characteristics</td>\n      <td>1</td>\n      <td>Maternal Characteristics</td>\n      <td></td>\n      <td></td>\n      <td></td>\n    </tr>\n    <tr>\n      <th>1</th>\n      <td>Maternal Characteristics</td>\n      <td>2</td>\n      <td>NaN</td>\n      <td></td>\n      <td></td>\n      <td></td>\n    </tr>\n    <tr>\n      <th>2</th>\n      <td>Lifestyle Characteristics</td>\n      <td>3</td>\n      <td>Maternal Characteristics</td>\n      <td></td>\n      <td></td>\n      <td></td>\n    </tr>\n    <tr>\n      <th>3</th>\n      <td>Maternal smoking</td>\n      <td>1</td>\n      <td>Lifestyle Characteristics</td>\n      <td></td>\n      <td></td>\n      <td></td>\n    </tr>\n    <tr>\n      <th>4</th>\n      <td>Socio-demographic characteristics</td>\n      <td>1</td>\n      <td>Child</td>\n      <td></td>\n      <td></td>\n      <td></td>\n    </tr>\n    <tr>\n      <th>...</th>\n      <td>...</td>\n      <td>...</td>\n      <td>...</td>\n      <td>...</td>\n      <td>...</td>\n      <td>...</td>\n    </tr>\n    <tr>\n      <th>299</th>\n      <td>pm25fe</td>\n      <td>8</td>\n      <td>Air pollution</td>\n      <td></td>\n      <td></td>\n      <td></td>\n    </tr>\n    <tr>\n      <th>300</th>\n      <td>unhealthy_facilities_density</td>\n      <td>1</td>\n      <td>Unhealthy food environment</td>\n      <td></td>\n      <td></td>\n      <td></td>\n    </tr>\n    <tr>\n      <th>301</th>\n      <td>unhealthy_facilities_density_osm</td>\n      <td>2</td>\n      <td>Unhealthy food environment</td>\n      <td></td>\n      <td></td>\n      <td></td>\n    </tr>\n    <tr>\n      <th>302</th>\n      <td>pm25k</td>\n      <td>9</td>\n      <td>Air pollution</td>\n      <td></td>\n      <td></td>\n      <td></td>\n    </tr>\n    <tr>\n      <th>303</th>\n      <td>meteo_distance</td>\n      <td>11</td>\n      <td>Meteorology</td>\n      <td></td>\n      <td></td>\n      <td></td>\n    </tr>\n  </tbody>\n</table>\n<p>304 rows × 6 columns</p>\n</div>"
     },
     "metadata": {},
     "execution_count": 34
    }
   ],
   "source": [
    "keywords = topics.rename(columns={\"label\": \"new_name\", \"parentTopic\": \"parent\"})\n",
    "keywords[\"definition\"] = \"\"\n",
    "keywords[\"comments\"] = \"\"\n",
    "keywords[\"ontologyTermURI\"] = \"\"\n",
    "\n",
    "# voor elke keyword rij\n",
    "for index, row in keywords.iterrows():\n",
    "  parentId = row['parent']\n",
    "  # als er sprake is van een parent\n",
    "  if not parentId == \"\":\n",
    "    parentIndex = \"\"\n",
    "    # zoek de rij index van de parent\n",
    "    for lookUpIndex, lookUpRow in keywords.iterrows():\n",
    "      if(parentId == lookUpRow['name']):\n",
    "        parentIndex = lookUpIndex\n",
    "  # als de parent gevonden is \n",
    "  if not parentIndex == \"\":\n",
    "    # set de name naam de parent als parent cell\n",
    "    keywords.loc[index, 'parent'] = keywords.loc[parentIndex, 'new_name']\n",
    "\n",
    "keywords = keywords.drop(columns=['name'])\n",
    "keywords = keywords.rename(columns={\"new_name\": \"name\"})\n",
    "\n",
    "keywords.to_csv('./output/temp/Keywords.csv', index=False)\n",
    "keywords\n"
   ]
  },
  {
   "cell_type": "code",
   "execution_count": null,
   "metadata": {},
   "outputs": [],
   "source": []
  }
 ]
}