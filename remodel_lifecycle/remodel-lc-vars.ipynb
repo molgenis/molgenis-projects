{
 "metadata": {
  "language_info": {
   "codemirror_mode": {
    "name": "ipython",
    "version": 3
   },
   "file_extension": ".py",
   "mimetype": "text/x-python",
   "name": "python",
   "nbconvert_exporter": "python",
   "pygments_lexer": "ipython3",
   "version": "3.7.10-final"
  },
  "orig_nbformat": 2,
  "kernelspec": {
   "name": "python3710jvsc74a57bd07dfe34d8d2e62d683bd2f5d5f951b11e9760267beabc84ae9782542716d19175",
   "display_name": "Python 3.7.10 64-bit ('myenv': conda)"
  }
 },
 "nbformat": 4,
 "nbformat_minor": 2,
 "cells": [
  {
   "cell_type": "code",
   "execution_count": 1,
   "metadata": {},
   "outputs": [],
   "source": [
    "import pandas as pd\n",
    "import os\n",
    "\n",
    "def remodel_variables(variables):\n",
    "    #read target model\n",
    "    remodeled_variables = pd.read_csv('./target/Variables.csv', index_col=0, nrows=0)\n",
    "\n",
    "    #remodel existing information\n",
    "    remodeled_variables['name'] = variables['name']\n",
    "    remodeled_variables['label'] = variables['label']\n",
    "    remodeled_variables['format'] = variables['format']\n",
    "    remodeled_variables['temp_code_list'] = variables['codeList']\n",
    "\n",
    "    #write new information\n",
    "    remodeled_variables['release.resource'] = 'LifeCycle'\n",
    "    remodeled_variables['release.version'] = '1.0.0'\n",
    "    remodeled_variables['table'] = 'core'\n",
    "\n",
    "    return remodeled_variables\n",
    "\n",
    "\n",
    "def get_variables_values(remodeled_variables, values):\n",
    "    #create new df\n",
    "    var_values = pd.DataFrame(columns=['release', 'variable', 'value',\n",
    "                                       'label', 'order', 'isMissing',\n",
    "                                       'ontologyTermIRI'])\n",
    "\n",
    "    #for categorical variables get values from values df and write to new df\n",
    "    i = 0\n",
    "    for data_type in remodeled_variables['format']:\n",
    "        if data_type == 'categorical':\n",
    "            j = 0\n",
    "            for code_list in values['codeList']:\n",
    "                if code_list == remodeled_variables.loc[i, 'temp_code_list']:\n",
    "                    var_values.loc[j, 'variable'] = 'core.' + remodeled_variables['name'][i]\n",
    "                    var_values.loc[j, 'value'] = values['value'][j]\n",
    "                    var_values.loc[j, 'label'] = values['label'][j]\n",
    "                    var_values.loc[j, 'order'] = values['order'][j]\n",
    "                j+=1\n",
    "        i+=1\n",
    "\n",
    "    var_values['release'] = 'LifeCycle.1.0.0'\n",
    "    \n",
    "    return var_values\n",
    "\n"
   ]
  },
  {
   "cell_type": "code",
   "execution_count": 2,
   "metadata": {},
   "outputs": [],
   "source": [
    "#read source files, 'old' lifecycle variables\n",
    "variables = pd.read_csv('./src/Variable.csv')\n",
    "values = pd.read_csv('./src/Code.csv')"
   ]
  },
  {
   "cell_type": "code",
   "execution_count": 3,
   "metadata": {},
   "outputs": [],
   "source": [
    "#remodel to emx2 Cohort Catalogue model\n",
    "remodeled_variables = remodel_variables(variables)\n",
    "variable_values = get_variables_values(remodeled_variables, values)"
   ]
  },
  {
   "cell_type": "code",
   "execution_count": null,
   "metadata": {},
   "outputs": [],
   "source": [
    "#write to file\n",
    "remodeled_variables.to_csv('./output/Variables.csv', index=False)\n",
    "variable_values.to_csv('./output/VariableValues.csv', index=False)"
   ]
  }
 ]
}